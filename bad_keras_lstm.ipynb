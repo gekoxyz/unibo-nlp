{
 "cells": [
  {
   "cell_type": "code",
   "execution_count": 30,
   "metadata": {},
   "outputs": [
    {
     "name": "stdout",
     "output_type": "stream",
     "text": [
      "count    50000.000000\n",
      "mean       858.389040\n",
      "std        658.428061\n",
      "min         22.000000\n",
      "25%        452.000000\n",
      "50%        633.000000\n",
      "75%       1044.000000\n",
      "max       9434.000000\n",
      "Name: text, dtype: float64\n"
     ]
    }
   ],
   "source": [
    "import pandas as pd\n",
    "import numpy as np\n",
    "\n",
    "np.random.seed(1337)\n",
    "\n",
    "data = pd.read_csv('./clean_dataset.csv')\n",
    "data = data.iloc[np.random.permutation(len(data))]\n",
    "print(data['text'].str.len().describe())\n",
    "\n",
    "CORPUS_MAX_SIZE = 1024\n",
    "data['text'] = data['text'].str.slice(0, CORPUS_MAX_SIZE)"
   ]
  },
  {
   "cell_type": "code",
   "execution_count": 31,
   "metadata": {},
   "outputs": [],
   "source": [
    "train_size = 0.8\n",
    "validation_size = 0.5\n",
    "\n",
    "split_id = int(len(data) * train_size)\n",
    "\n",
    "temp_train_x, test_x = data.text[:split_id], data.text[split_id:]\n",
    "temp_train_y, test_y = data.label[:split_id], data.label[split_id:]"
   ]
  },
  {
   "cell_type": "code",
   "execution_count": 32,
   "metadata": {},
   "outputs": [
    {
     "name": "stderr",
     "output_type": "stream",
     "text": [
      "100%|██████████| 40000/40000 [00:00<00:00, 52706.05it/s]\n"
     ]
    }
   ],
   "source": [
    "from collections import Counter\n",
    "from tqdm import tqdm\n",
    "tqdm.pandas()\n",
    "\n",
    "words = temp_train_x.str.cat(sep=' ').split()\n",
    "\n",
    "# build vocabulary\n",
    "frequency_counter = Counter(words)\n",
    "# sort words by the frequency they appear in the text\n",
    "vocab = sorted(frequency_counter, key=frequency_counter.get, reverse=True)\n",
    "\n",
    "# associate a number to each word in the list in ascending order\n",
    "# in this way the most frequent words have lower numbers\n",
    "int2word = dict(enumerate(vocab[:5000], 2))\n",
    "int2word[0] = '<PAD>'\n",
    "int2word[1] = '<UNK>'\n",
    "word2int = {word: id for id, word in int2word.items()}\n",
    "# encode words\n",
    "reviews_enc = [[word2int.get(word, 1) for word in review.split()] for review in tqdm(temp_train_x.values)]\n",
    "\n",
    "features = np.zeros((len(reviews_enc), CORPUS_MAX_SIZE), dtype=int)\n",
    "\n",
    "for i, row in enumerate(reviews_enc):\n",
    "  index = CORPUS_MAX_SIZE - len(row)\n",
    "  features[i, index:] = np.array(row)[:CORPUS_MAX_SIZE]\n",
    "\n",
    "# make val and test set\n",
    "split_val_id = int(len(temp_train_x) * validation_size)\n",
    "train_x, val_x = features[:split_val_id], features[split_val_id:]\n",
    "train_y, val_y = temp_train_y[:split_val_id], temp_train_y[split_val_id:]"
   ]
  },
  {
   "cell_type": "markdown",
   "metadata": {},
   "source": [
    "now i have a train, validation and test set"
   ]
  },
  {
   "cell_type": "code",
   "execution_count": 33,
   "metadata": {},
   "outputs": [
    {
     "name": "stderr",
     "output_type": "stream",
     "text": [
      "/Users/geko/unibo/nlp/project/venv/lib/python3.12/site-packages/keras/src/layers/core/embedding.py:90: UserWarning: Argument `input_length` is deprecated. Just remove it.\n",
      "  warnings.warn(\n"
     ]
    }
   ],
   "source": [
    "from tensorflow.keras.models import Sequential\n",
    "from tensorflow.keras.layers import Embedding, LSTM, Dense, Bidirectional, Dropout\n",
    "from tensorflow.keras.optimizers import Adam\n",
    "from tensorflow.keras.utils import to_categorical\n",
    "\n",
    "# Parameters\n",
    "vocab_size = 10000  # Adjust to your vocabulary size\n",
    "embedding_dim = 128  # Dimension of the word embeddings\n",
    "sequence_length = 1024  # Length of the input sequences\n",
    "lstm_units = 128  # Number of LSTM units\n",
    "batch_size = 128\n",
    "epochs = 4\n",
    "\n",
    "X = train_x\n",
    "y = train_y\n",
    "\n",
    "# Build the LSTM model\n",
    "model = Sequential([\n",
    "  Embedding(input_dim=vocab_size, output_dim=embedding_dim, input_length=sequence_length),\n",
    "  Bidirectional(LSTM(lstm_units, return_sequences=True)),  # Bidirectional LSTM\n",
    "  LSTM(lstm_units, return_sequences=False),  # Unidirectional LSTM\n",
    "  Dense(64, activation='relu'),  # Dense layer with ReLU activation\n",
    "  Dropout(0.2),  # Dropout layer\n",
    "  Dense(1, activation='sigmoid')  # Sigmoid for binary classification\n",
    "])\n",
    "\n",
    "# Compile the model\n",
    "model.compile(optimizer=Adam(learning_rate=0.001), loss='binary_crossentropy', metrics=['accuracy', 'F1Score'])\n"
   ]
  },
  {
   "cell_type": "code",
   "execution_count": 34,
   "metadata": {},
   "outputs": [
    {
     "name": "stdout",
     "output_type": "stream",
     "text": [
      "Training...\n",
      "Epoch 1/4\n",
      "\u001b[1m125/125\u001b[0m \u001b[32m━━━━━━━━━━━━━━━━━━━━\u001b[0m\u001b[37m\u001b[0m \u001b[1m575s\u001b[0m 5s/step - F1Score: 0.6634 - accuracy: 0.6579 - loss: 0.5906 - val_F1Score: 0.6722 - val_accuracy: 0.8443 - val_loss: 0.3730\n",
      "Epoch 2/4\n",
      "\u001b[1m125/125\u001b[0m \u001b[32m━━━━━━━━━━━━━━━━━━━━\u001b[0m\u001b[37m\u001b[0m \u001b[1m572s\u001b[0m 5s/step - F1Score: 0.6666 - accuracy: 0.8910 - loss: 0.2755 - val_F1Score: 0.6722 - val_accuracy: 0.8530 - val_loss: 0.3468\n",
      "Epoch 3/4\n",
      "\u001b[1m125/125\u001b[0m \u001b[32m━━━━━━━━━━━━━━━━━━━━\u001b[0m\u001b[37m\u001b[0m \u001b[1m562s\u001b[0m 4s/step - F1Score: 0.6666 - accuracy: 0.9166 - loss: 0.2164 - val_F1Score: 0.6722 - val_accuracy: 0.8572 - val_loss: 0.3872\n",
      "Epoch 4/4\n",
      "\u001b[1m125/125\u001b[0m \u001b[32m━━━━━━━━━━━━━━━━━━━━\u001b[0m\u001b[37m\u001b[0m \u001b[1m574s\u001b[0m 5s/step - F1Score: 0.6671 - accuracy: 0.9440 - loss: 0.1559 - val_F1Score: 0.6722 - val_accuracy: 0.8342 - val_loss: 0.3901\n",
      "Model saved to lstm_binary_classifier.h5\n"
     ]
    }
   ],
   "source": [
    "print(\"Training...\")\n",
    "model.fit(X, y, batch_size=batch_size, epochs=epochs, validation_split=0.2)\n",
    "\n",
    "# Save the model to disk\n",
    "model.save(\"lstm_binary_classifier.keras\")\n",
    "print(\"Model saved to lstm_binary_classifier.h5\")"
   ]
  },
  {
   "cell_type": "code",
   "execution_count": 35,
   "metadata": {},
   "outputs": [
    {
     "name": "stdout",
     "output_type": "stream",
     "text": [
      "\u001b[1m625/625\u001b[0m \u001b[32m━━━━━━━━━━━━━━━━━━━━\u001b[0m\u001b[37m\u001b[0m \u001b[1m340s\u001b[0m 544ms/step - F1Score: 0.6609 - accuracy: 0.8391 - loss: 0.3837\n"
     ]
    },
    {
     "ename": "ValueError",
     "evalue": "too many values to unpack (expected 2)",
     "output_type": "error",
     "traceback": [
      "\u001b[0;31m---------------------------------------------------------------------------\u001b[0m",
      "\u001b[0;31mValueError\u001b[0m                                Traceback (most recent call last)",
      "Cell \u001b[0;32mIn[35], line 2\u001b[0m\n\u001b[1;32m      1\u001b[0m \u001b[38;5;66;03m# Evaluate the model\u001b[39;00m\n\u001b[0;32m----> 2\u001b[0m loss, accuracy \u001b[38;5;241m=\u001b[39m model\u001b[38;5;241m.\u001b[39mevaluate(val_x, val_y, verbose\u001b[38;5;241m=\u001b[39m\u001b[38;5;241m1\u001b[39m)\n\u001b[1;32m      3\u001b[0m \u001b[38;5;28mprint\u001b[39m(\u001b[38;5;124mf\u001b[39m\u001b[38;5;124m\"\u001b[39m\u001b[38;5;124mFinal Loss: \u001b[39m\u001b[38;5;132;01m{\u001b[39;00mloss\u001b[38;5;132;01m:\u001b[39;00m\u001b[38;5;124m.4f\u001b[39m\u001b[38;5;132;01m}\u001b[39;00m\u001b[38;5;124m, Final Accuracy: \u001b[39m\u001b[38;5;132;01m{\u001b[39;00maccuracy\u001b[38;5;132;01m:\u001b[39;00m\u001b[38;5;124m.4f\u001b[39m\u001b[38;5;132;01m}\u001b[39;00m\u001b[38;5;124m\"\u001b[39m)\n",
      "\u001b[0;31mValueError\u001b[0m: too many values to unpack (expected 2)"
     ]
    }
   ],
   "source": [
    "# Evaluate the model\n",
    "loss, accuracy = model.evaluate(val_x, val_y, verbose=1)\n",
    "print(f\"Final Loss: {loss:.4f}, Final Accuracy: {accuracy:.4f}\")"
   ]
  }
 ],
 "metadata": {
  "kernelspec": {
   "display_name": "venv",
   "language": "python",
   "name": "python3"
  },
  "language_info": {
   "codemirror_mode": {
    "name": "ipython",
    "version": 3
   },
   "file_extension": ".py",
   "mimetype": "text/x-python",
   "name": "python",
   "nbconvert_exporter": "python",
   "pygments_lexer": "ipython3",
   "version": "3.12.7"
  }
 },
 "nbformat": 4,
 "nbformat_minor": 2
}

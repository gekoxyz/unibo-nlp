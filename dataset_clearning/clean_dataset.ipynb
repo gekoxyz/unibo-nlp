{
 "cells": [
  {
   "cell_type": "code",
   "execution_count": null,
   "metadata": {},
   "outputs": [
    {
     "name": "stderr",
     "output_type": "stream",
     "text": [
      "[nltk_data] Downloading package stopwords to /Users/geko/nltk_data...\n",
      "[nltk_data]   Package stopwords is already up-to-date!\n",
      "[nltk_data] Downloading package wordnet to /Users/geko/nltk_data...\n",
      "[nltk_data]   Package wordnet is already up-to-date!\n"
     ]
    }
   ],
   "source": [
    "import pandas as pd\n",
    "\n",
    "# utils\n",
    "import re\n",
    "from tqdm import tqdm\n",
    "tqdm.pandas()\n",
    "\n",
    "# text processing\n",
    "import re\n",
    "import nltk\n",
    "from nltk.tokenize import word_tokenize\n",
    "from nltk.corpus import stopwords\n",
    "from nltk.stem.wordnet import WordNetLemmatizer\n",
    "nltk.download('stopwords')\n",
    "nltk.download('wordnet')\n",
    "stopwords = set(stopwords.words('english'))\n",
    "\n",
    "train_path = 'imdb/plain_text/train-00000-of-00001.parquet'\n",
    "test_path = 'imdb/plain_text/test-00000-of-00001.parquet'"
   ]
  },
  {
   "cell_type": "code",
   "execution_count": 2,
   "metadata": {},
   "outputs": [],
   "source": [
    "df_train = pd.read_parquet(train_path)\n",
    "df_test = pd.read_parquet(test_path)\n",
    "\n",
    "df = pd.concat([df_train, df_test], ignore_index=True, sort=False)"
   ]
  },
  {
   "cell_type": "code",
   "execution_count": 3,
   "metadata": {},
   "outputs": [],
   "source": [
    "def rm_link(text):\n",
    "  return re.sub(r'https?://\\S+|www\\.\\S+', '', text)\n",
    "\n",
    "def rm_html(text):\n",
    "  return re.sub(r'<[^>]+>', '', text)\n",
    "\n",
    "def space_bt_punct(text):\n",
    "  pattern = r'([.,!?-])'\n",
    "  # add whitespaces between punctuation\n",
    "  s = re.sub(pattern, r' \\1 ', text)\n",
    "  # remove double whitespaces\n",
    "  s = re.sub(r'\\s{2,}', ' ', s)\n",
    "  return s\n",
    "\n",
    "def clean_html(text):\n",
    "  # Remove specific sequences\n",
    "  text = re.sub(r\"<br|/><br|/>\", \"\", text)\n",
    "  return text\n",
    "\n",
    "def rm_punct(text):\n",
    "  return re.sub(r'[\\\"\\#\\$\\%\\&\\'\\(\\)\\*\\+\\/\\:\\;\\<\\=\\>\\@\\[\\\\\\]\\^\\_\\`\\{\\|\\}\\~\\.\\!\\?\\-\\,]', ' ', text)\n",
    "\n",
    "df['text'] = df['text'].apply(rm_link)\n",
    "df['text'] = df['text'].apply(rm_html)\n",
    "df['text'] = df['text'].apply(space_bt_punct)\n",
    "df['text'] = df['text'].apply(clean_html)\n",
    "df['text'] = df['text'].apply(rm_punct)\n",
    "\n",
    "df['text'] = df['text'].apply(lambda x: ' '.join([word for word in x.split() if word not in (stopwords)]))\n",
    "\n",
    "df['text'] = df['text'].apply(lambda x: x.lower())"
   ]
  },
  {
   "cell_type": "code",
   "execution_count": null,
   "metadata": {},
   "outputs": [],
   "source": [
    "# preprocessing\n",
    "def tokenize(text):\n",
    "  return word_tokenize(text)\n",
    "\n",
    "def rm_stopwords(text):\n",
    "  return [i for i in text if i not in stopwords]\n",
    "\n",
    "def lemmatize(text):\n",
    "  lemmatizer = WordNetLemmatizer()    \n",
    "  lemmas = [lemmatizer.lemmatize(t) for t in text]\n",
    "  # make sure lemmas does not contains stopwords\n",
    "  return rm_stopwords(lemmas)\n",
    "\n",
    "def preprocess_pipeline(text):\n",
    "  tokens = tokenize(text)\n",
    "  no_stopwords = rm_stopwords(tokens)\n",
    "  lemmas = lemmatize(no_stopwords)\n",
    "  return ' '.join(lemmas)"
   ]
  },
  {
   "cell_type": "code",
   "execution_count": 7,
   "metadata": {},
   "outputs": [],
   "source": [
    "df[['text', 'label']].to_csv('./imdb_processed.csv', index=False, header=True)"
   ]
  }
 ],
 "metadata": {
  "kernelspec": {
   "display_name": "venv",
   "language": "python",
   "name": "python3"
  },
  "language_info": {
   "codemirror_mode": {
    "name": "ipython",
    "version": 3
   },
   "file_extension": ".py",
   "mimetype": "text/x-python",
   "name": "python",
   "nbconvert_exporter": "python",
   "pygments_lexer": "ipython3",
   "version": "3.12.8"
  }
 },
 "nbformat": 4,
 "nbformat_minor": 2
}

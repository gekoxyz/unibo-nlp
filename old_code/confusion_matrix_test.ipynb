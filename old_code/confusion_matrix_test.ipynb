{
 "cells": [
  {
   "cell_type": "code",
   "execution_count": 10,
   "metadata": {},
   "outputs": [
    {
     "name": "stderr",
     "output_type": "stream",
     "text": [
      "loading dataset: 50it [00:00, 119.87it/s]\n"
     ]
    },
    {
     "name": "stdout",
     "output_type": "stream",
     "text": [
      "--------------------------------------------\n",
      "--------------------------------------------\n",
      "label\n",
      "1    20000\n",
      "0    20000\n",
      "Name: count, dtype: int64\n",
      "Number of 0 labels: 20000\n",
      "Number of 1 labels: 20000\n",
      "--------------------------------------------\n",
      "label\n",
      "1    5000\n",
      "0    5000\n",
      "Name: count, dtype: int64\n",
      "Number of test 0 labels: 5000\n",
      "Number of test 1 labels: 5000\n",
      "--------------------------------------------\n",
      "--------------------------------------------\n",
      "train data shape: (40000, 2)\n",
      "test data shape:  (10000, 2)\n",
      "tokenizing the test dataset\n",
      "\u001b[1m313/313\u001b[0m \u001b[32m━━━━━━━━━━━━━━━━━━━━\u001b[0m\u001b[37m\u001b[0m \u001b[1m32s\u001b[0m 101ms/step\n"
     ]
    }
   ],
   "source": [
    "import os\n",
    "import pandas as pd\n",
    "from tqdm import tqdm\n",
    "import tensorflow as tf\n",
    "tf.random.set_seed(1337)\n",
    "\n",
    "from sklearn.model_selection import train_test_split\n",
    "from sklearn.metrics import confusion_matrix\n",
    "from tensorflow.keras.preprocessing.text import Tokenizer\n",
    "from tensorflow.keras.preprocessing.sequence import pad_sequences\n",
    "\n",
    "TEST_SPLIT = 0.2\n",
    "VALIDATION_SPLIT = 0.2\n",
    "\n",
    "TOKENIZER_MAX_WORDS = 10000\n",
    "\n",
    "data = pd.concat([chunk for chunk in tqdm(pd.read_csv(\"./clean_dataset.csv\", chunksize=1000), desc=\"loading dataset\")])\n",
    "\n",
    "train_data, test_data = train_test_split(data, test_size=TEST_SPLIT, random_state=1337, stratify=data[\"label\"])\n",
    "\n",
    "\n",
    "print(\"--------------------------------------------\")\n",
    "print(\"--------------------------------------------\")\n",
    "label_counts = train_data[\"label\"].value_counts()\n",
    "print(label_counts)\n",
    "count_0 = label_counts[0]\n",
    "count_1 = label_counts[1]\n",
    "print(f\"Number of 0 labels: {count_0}\")\n",
    "print(f\"Number of 1 labels: {count_1}\")\n",
    "print(\"--------------------------------------------\")\n",
    "test_label_counts = test_data[\"label\"].value_counts()\n",
    "print(test_label_counts)\n",
    "test_count_0 = test_label_counts[0]\n",
    "test_count_1 = test_label_counts[1]\n",
    "print(f\"Number of test 0 labels: {test_count_0}\")\n",
    "print(f\"Number of test 1 labels: {test_count_1}\")\n",
    "print(\"--------------------------------------------\")\n",
    "print(\"--------------------------------------------\")\n",
    "\n",
    "\n",
    "print(f\"train data shape: {train_data.shape}\")\n",
    "print(f\"test data shape:  {test_data.shape}\")\n",
    "\n",
    "print(f\"tokenizing the test dataset\")\n",
    "tokenizer = Tokenizer(num_words=TOKENIZER_MAX_WORDS)\n",
    "tokenizer.fit_on_texts(train_data[\"text\"])\n",
    "\n",
    "loaded_models = tf.keras.models.load_model(\"INSERT MODEL PATH\")\n",
    "\n",
    "X_test = pad_sequences(tokenizer.texts_to_sequences(test_data[\"text\"]), maxlen=500) # TODO: CHANGE 500 TO REFLECT THE MODEL PARAMS\n",
    "Y_test = test_data[\"label\"]\n",
    "\n",
    "y_pred_model = loaded_models.predict(X_test).argmax(axis=-1)"
   ]
  },
  {
   "cell_type": "code",
   "execution_count": 13,
   "metadata": {},
   "outputs": [
    {
     "name": "stdout",
     "output_type": "stream",
     "text": [
      "y_pred_classes\n",
      "[0 0 0 ... 0 0 0]\n"
     ]
    },
    {
     "data": {
      "image/png": "[encoded data removed]",
      "text/plain": [
       "<Figure size 640x480 with 2 Axes>"
      ]
     },
     "metadata": {},
     "output_type": "display_data"
    }
   ],
   "source": [
    "import matplotlib.pyplot as plt\n",
    "from sklearn.metrics import ConfusionMatrixDisplay\n",
    "print(f\"y_pred_classes\\n{y_pred_model}\")\n",
    "\n",
    "conf_matrix = confusion_matrix(test_data[\"label\"], y_pred_model)\n",
    "\n",
    "disp = ConfusionMatrixDisplay(confusion_matrix=conf_matrix)\n",
    "disp.plot(cmap=plt.cm.Blues)\n",
    "plt.show()"
   ]
  },
  {
   "cell_type": "code",
   "execution_count": 12,
   "metadata": {},
   "outputs": [
    {
     "name": "stdout",
     "output_type": "stream",
     "text": [
      "\u001b[1m313/313\u001b[0m \u001b[32m━━━━━━━━━━━━━━━━━━━━\u001b[0m\u001b[37m\u001b[0m \u001b[1m32s\u001b[0m 103ms/step\n",
      "\u001b[1m313/313\u001b[0m \u001b[32m━━━━━━━━━━━━━━━━━━━━\u001b[0m\u001b[37m\u001b[0m \u001b[1m31s\u001b[0m 99ms/step - accuracy: 0.8526 - loss: 0.4152\n",
      "LSTM with hyperparameters\n",
      "metrics: [0.41568177938461304, 0.855400025844574]\n",
      "\u001b[1m313/313\u001b[0m \u001b[32m━━━━━━━━━━━━━━━━━━━━\u001b[0m\u001b[37m\u001b[0m \u001b[1m32s\u001b[0m 101ms/step\n"
     ]
    }
   ],
   "source": [
    "X_test = pad_sequences(tokenizer.texts_to_sequences(test_data[\"text\"]), maxlen=500) # TODO: CHANGE 500 TO REFLECT THE MODEL PARAMS\n",
    "y_pred_model = loaded_models.predict(X_test).argmax(axis=-1)\n",
    "\n",
    "\n",
    "metrics = loaded_models.evaluate(X_test, Y_test)\n",
    "print(f\"LSTM with hyperparameters\")\n",
    "print(f\"metrics: {metrics}\")\n",
    "\n",
    "from sklearn.metrics import accuracy_score, recall_score, f1_score\n",
    "\n",
    "y_pred = loaded_models.predict(X_test)\n",
    "y_pred_binary = (y_pred > 0.5).astype(int)\n",
    "accuracy = accuracy_score(Y_test, y_pred_binary)\n",
    "recall = recall_score(Y_test, y_pred_binary)\n",
    "f1 = f1_score(Y_test, y_pred_binary)\n",
    "\n",
    "with open(\"TMP_hyp_lstm.txt\", \"a\") as file:\n",
    "  file.write(f\"LSTM with hyperparameters\")\n",
    "  file.write(f\"accuracy:      {accuracy}\")\n",
    "  file.write(f\"test recall:   {recall}\\n\")\n",
    "  file.write(f\"test f1:       {f1}\\n\\n\")"
   ]
  }
 ],
 "metadata": {
  "kernelspec": {
   "display_name": "venv",
   "language": "python",
   "name": "python3"
  },
  "language_info": {
   "codemirror_mode": {
    "name": "ipython",
    "version": 3
   },
   "file_extension": ".py",
   "mimetype": "text/x-python",
   "name": "python",
   "nbconvert_exporter": "python",
   "pygments_lexer": "ipython3",
   "version": "3.12.8"
  }
 },
 "nbformat": 4,
 "nbformat_minor": 2
}

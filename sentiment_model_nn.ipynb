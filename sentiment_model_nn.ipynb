{
 "cells": [
  {
   "cell_type": "code",
   "execution_count": null,
   "metadata": {},
   "outputs": [
    {
     "name": "stdout",
     "output_type": "stream",
     "text": [
      "count    50000.000000\n",
      "mean       858.389040\n",
      "std        658.428061\n",
      "min         22.000000\n",
      "25%        452.000000\n",
      "50%        633.000000\n",
      "75%       1044.000000\n",
      "max       9434.000000\n",
      "Name: text, dtype: float64\n"
     ]
    }
   ],
   "source": [
    "import pandas as pd\n",
    "import numpy as np\n",
    "\n",
    "np.random.seed(1337)\n",
    "\n",
    "# read processed data\n",
    "data = pd.read_csv('./imdb_processed_full.csv')\n",
    "data = data.iloc[np.random.permutation(len(data))]\n",
    "print(data['text'].str.len().describe())\n",
    "\n",
    "CORPUS_MAX_SIZE = 752\n",
    "\n",
    "data['text'] = data['text'].str.slice(0, CORPUS_MAX_SIZE)"
   ]
  },
  {
   "cell_type": "code",
   "execution_count": 2,
   "metadata": {},
   "outputs": [
    {
     "name": "stdout",
     "output_type": "stream",
     "text": [
      "Feature Shapes:\n",
      "===============\n",
      "Test set: (10000,)\n"
     ]
    }
   ],
   "source": [
    "train_size = 0.8\n",
    "validation_size = 0.5\n",
    "\n",
    "split_id = int(len(data) * train_size)\n",
    "\n",
    "temp_train_x, test_x = data.text[:split_id], data.text[split_id:]\n",
    "temp_train_y, test_y = data.label[:split_id], data.label[split_id:]\n",
    "\n",
    "# now we have train, val and test\n",
    "print('Feature Shapes:')\n",
    "print('===============')\n",
    "# print('Train set: {}'.format(train_x.shape))\n",
    "# print('Validation set: {}'.format(val_x.shape))\n",
    "print('Test set: {}'.format(test_x.shape))"
   ]
  },
  {
   "cell_type": "code",
   "execution_count": 3,
   "metadata": {},
   "outputs": [
    {
     "name": "stderr",
     "output_type": "stream",
     "text": [
      "100%|██████████| 40000/40000 [00:00<00:00, 85265.29it/s]\n"
     ]
    }
   ],
   "source": [
    "from collections import Counter\n",
    "from tqdm import tqdm\n",
    "tqdm.pandas()\n",
    "\n",
    "words = temp_train_x.str.cat(sep=' ').split()\n",
    "\n",
    "# build vocabulary\n",
    "frequency_counter = Counter(words)\n",
    "# sort words by the frequency they appear in the text\n",
    "vocab = sorted(frequency_counter, key=frequency_counter.get, reverse=True)\n",
    "\n",
    "# associate a number to each word in the list in ascending order\n",
    "# in this way the most frequent words have lower numbers\n",
    "int2word = dict(enumerate(vocab[:5000], 2))\n",
    "int2word[0] = '<PAD>'\n",
    "int2word[1] = '<UNK>'\n",
    "word2int = {word: id for id, word in int2word.items()}\n",
    "# encode words\n",
    "reviews_enc = [[word2int.get(word, 1) for word in review.split()] for review in tqdm(temp_train_x.values)]"
   ]
  },
  {
   "cell_type": "code",
   "execution_count": 4,
   "metadata": {},
   "outputs": [],
   "source": [
    "# TODO: maybe float 16\n",
    "features = np.zeros((len(reviews_enc), CORPUS_MAX_SIZE), dtype=int)\n",
    "\n",
    "for i, row in enumerate(reviews_enc):\n",
    "  # print(f\"ROW LENGTH {len(row)}\")\n",
    "  # print(f\"ITEM {i} COULD BE INSERTED AT {1000 - len(row)}\")\n",
    "  # print(f\"######################\")\n",
    "  index = CORPUS_MAX_SIZE - len(row)\n",
    "  features[i, index:] = np.array(row)[:CORPUS_MAX_SIZE]\n",
    "  # features[i, :len(row)] = np.array(row)[:1000]\n",
    "\n",
    "# make val and test set\n",
    "split_val_id = int(len(temp_train_x) * validation_size)\n",
    "train_x, val_x = features[:split_val_id], features[split_val_id:]\n",
    "train_y, val_y = temp_train_y[:split_val_id], temp_train_y[split_val_id:]"
   ]
  },
  {
   "cell_type": "code",
   "execution_count": 5,
   "metadata": {},
   "outputs": [],
   "source": [
    "import torch\n",
    "from torch import nn\n",
    "from torch.optim import Adam\n",
    "from torch.utils.data import TensorDataset, DataLoader\n",
    "\n",
    "# define batch size\n",
    "batch_size = 128\n",
    "\n",
    "# create tensor datasets\n",
    "trainset = TensorDataset(torch.from_numpy(train_x), torch.from_numpy(train_y.to_numpy()))\n",
    "validset = TensorDataset(torch.from_numpy(val_x), torch.from_numpy(val_y.to_numpy()))\n",
    "\n",
    "# create dataloaders\n",
    "trainloader = DataLoader(trainset, shuffle=True, batch_size=batch_size)\n",
    "valloader = DataLoader(validset, shuffle=True, batch_size=batch_size)"
   ]
  },
  {
   "cell_type": "code",
   "execution_count": 6,
   "metadata": {},
   "outputs": [],
   "source": [
    "# model architecture\n",
    "\n",
    "class SentimentModel(nn.Module):\n",
    "  def __init__(self, vocab_size, output_size, hidden_size=128, embedding_size=400, n_layers=2, dropout=0.2):\n",
    "    super(SentimentModel, self).__init__()\n",
    "    # embedding layer is useful to map input into vector representation\n",
    "    self.embedding = nn.Embedding(vocab_size, embedding_size)\n",
    "    # LSTM layer preserved by PyTorch library\n",
    "    self.lstm = nn.LSTM(embedding_size, hidden_size, n_layers, dropout=dropout, batch_first=True)\n",
    "    # dropout layer\n",
    "    self.dropout = nn.Dropout(0.3)\n",
    "    # Linear layer for output\n",
    "    self.fc = nn.Linear(hidden_size, output_size)\n",
    "    # Sigmoid layer cz we will have binary classification\n",
    "    self.sigmoid = nn.Sigmoid()\n",
    "\n",
    "  def forward(self, x):\n",
    "    # convert feature to long\n",
    "    x = x.long()\n",
    "    # map input to vector\n",
    "    x = self.embedding(x)\n",
    "    # pass forward to lstm\n",
    "    o, _ =  self.lstm(x)\n",
    "    # get last sequence output\n",
    "    o = o[:, -1, :]\n",
    "    # apply dropout and fully connected layer\n",
    "    o = self.dropout(o)\n",
    "    o = self.fc(o)\n",
    "    # sigmoid\n",
    "    o = self.sigmoid(o)\n",
    "\n",
    "    return o"
   ]
  },
  {
   "cell_type": "code",
   "execution_count": 7,
   "metadata": {},
   "outputs": [
    {
     "name": "stdout",
     "output_type": "stream",
     "text": [
      "mps\n"
     ]
    }
   ],
   "source": [
    "# define training device\n",
    "device = torch.device('cuda' if torch.cuda.is_available() else 'cpu')\n",
    "device = torch.device('mps' if torch.mps.is_available() else 'cpu')\n",
    "print(device)"
   ]
  },
  {
   "cell_type": "code",
   "execution_count": 8,
   "metadata": {},
   "outputs": [
    {
     "name": "stdout",
     "output_type": "stream",
     "text": [
      "VOCAB SIZE: 5002\n",
      "SentimentModel(\n",
      "  (embedding): Embedding(5002, 256)\n",
      "  (lstm): LSTM(256, 512, num_layers=2, batch_first=True, dropout=0.25)\n",
      "  (dropout): Dropout(p=0.3, inplace=False)\n",
      "  (fc): Linear(in_features=512, out_features=1, bias=True)\n",
      "  (sigmoid): Sigmoid()\n",
      ")\n"
     ]
    }
   ],
   "source": [
    "# model hyperparamters\n",
    "vocab_size = len(word2int)\n",
    "output_size = 1\n",
    "embedding_size = 256\n",
    "hidden_size = 512\n",
    "n_layers = 2\n",
    "dropout=0.25\n",
    "\n",
    "print(f\"VOCAB SIZE: {vocab_size}\")\n",
    "\n",
    "# model initialization\n",
    "model = SentimentModel(vocab_size, output_size, hidden_size, embedding_size, n_layers, dropout)\n",
    "print(model)"
   ]
  },
  {
   "cell_type": "code",
   "execution_count": 9,
   "metadata": {},
   "outputs": [],
   "source": [
    "# training config\n",
    "lr = 0.001\n",
    "criterion = nn.BCELoss()  # we use BCELoss cz we have binary classification problem\n",
    "optim = Adam(model.parameters(), lr=lr)\n",
    "grad_clip = 5\n",
    "epochs = 8\n",
    "print_every = 1\n",
    "history = {\n",
    "  'train_loss': [],\n",
    "  'train_acc': [],\n",
    "  'val_loss': [],\n",
    "  'val_acc': [],\n",
    "  'epochs': epochs\n",
    "}\n",
    "es_limit = 5"
   ]
  },
  {
   "cell_type": "code",
   "execution_count": null,
   "metadata": {},
   "outputs": [],
   "source": [
    "model = model.to(device)\n",
    "\n",
    "epochloop = tqdm(range(epochs), position=0, desc=\"Training\", leave=True)\n",
    "\n",
    "# early stop trigger\n",
    "es_trigger = 0\n",
    "# setting the minimun validation loss to infinity so we are sure it will be resetted\n",
    "val_loss_min = torch.inf\n",
    "\n",
    "for e in epochloop:\n",
    "  # training\n",
    "  model.train()\n",
    "  train_loss, train_acc = 0, 0\n",
    "\n",
    "  for id, (feature, target) in enumerate(trainloader):\n",
    "    epochloop.set_postfix_str(f\"Training batch {id}/{len(trainloader)}\")\n",
    "    feature, target = feature.to(device), target.to(device)\n",
    "\n",
    "    # reset the optimizer to avoid accumulation of gradients across training iterations\n",
    "    optim.zero_grad()\n",
    "    out = model(feature)\n",
    "    predicted = torch.tensor([1 if i == True else 0 for i in out > 0.5], device=device)\n",
    "    equals = predicted == target\n",
    "    acc = torch.mean(equals.type(torch.FloatTensor))\n",
    "    train_acc += acc.item()\n",
    "\n",
    "    loss = criterion(out.squeeze(), target.float())\n",
    "    train_loss += loss.item()\n",
    "    loss.backward()\n",
    "\n",
    "    # gradient clipping to avoid exploding gradient\n",
    "    nn.utils.clip_grad_norm_(model.parameters(), grad_clip)\n",
    "\n",
    "    # update optimizer\n",
    "    optim.step()\n",
    "    \n",
    "    # free memory\n",
    "    del feature, target, predicted\n",
    "  \n",
    "  history[\"train_loss\"].append(train_loss / len(trainloader))\n",
    "  history[\"train_acc\"].append(train_acc / len(trainloader))\n",
    "\n",
    "  # validation\n",
    "  model.eval()\n",
    "  val_loss, val_acc = 0, 0\n",
    "\n",
    "  with torch.no_grad():\n",
    "    for id, (feature, target) in enumerate(valloader):\n",
    "      epochloop.set_postfix_str(f\"Validation batch {id}/{len(valloader)}\")\n",
    "      feature, target = feature.to(device), target.to(device)\n",
    "\n",
    "      out = model(feature)\n",
    "\n",
    "      predicted = torch.tensor([1 if i == True else 0 for i in out > 0.5], device=device)\n",
    "      equals = predicted == target\n",
    "      acc = torch.mean(equals.type(torch.FloatTensor))\n",
    "      val_acc += acc.item()\n",
    "\n",
    "      loss = criterion(out.squeeze(), target.float())\n",
    "      val_loss += loss.item()\n",
    "\n",
    "      del feature, target, predicted\n",
    "\n",
    "    history[\"val_loss\"].append(val_loss/len(valloader))\n",
    "    history[\"val_acc\"].append(val_acc/len(valloader))\n",
    "\n",
    "  model.train()\n",
    "  epochloop.set_postfix_str(f\"Val loss: {val_loss / len(valloader):.3f} | Val acc: {val_acc / len(valloader):.3f}\")\n",
    "\n",
    "  if (e+1) % print_every == 0:\n",
    "    epochloop.write(f\"epoch {e+1}/{epochs} | val loss: {val_loss/len(valloader):.3f} val acc: {val_acc/len(valloader):.3f}\")\n",
    "    epochloop.update()\n",
    "\n",
    "  # save model if validation loss decrease \n",
    "  if val_loss / len(valloader) <= val_loss_min:\n",
    "    torch.save(model.state_dict(), \"./sentiment_lstm.pt\")\n",
    "    val_loss_min = val_loss / len(valloader)\n",
    "    es_trigger = 0\n",
    "  else:\n",
    "    epochloop.write(f\"[WARNING] validation loss did not improve\")\n",
    "    es_trigger += 1\n",
    "  \n",
    "  if es_trigger >= es_limit: \n",
    "    epochloop.write(f\"early stopped at epoch {e+1}\")\n",
    "    history[\"epochs\"] = e+1\n",
    "    break"
   ]
  },
  {
   "cell_type": "code",
   "execution_count": 10,
   "metadata": {},
   "outputs": [
    {
     "name": "stderr",
     "output_type": "stream",
     "text": [
      "100%|██████████| 10000/10000 [00:00<00:00, 97380.48it/s]\n",
      "Inference:   1%|▏         | 1/79 [00:01<01:22,  1.06s/it]"
     ]
    },
    {
     "name": "stdout",
     "output_type": "stream",
     "text": [
      "Accuracy: 0.0104, Loss: 0.0043\n"
     ]
    },
    {
     "name": "stderr",
     "output_type": "stream",
     "text": [
      "Inference:   3%|▎         | 2/79 [00:01<00:53,  1.44it/s]"
     ]
    },
    {
     "name": "stdout",
     "output_type": "stream",
     "text": [
      "Accuracy: 0.0212, Loss: 0.0085\n"
     ]
    },
    {
     "name": "stderr",
     "output_type": "stream",
     "text": [
      "Inference:   4%|▍         | 3/79 [00:01<00:43,  1.74it/s]"
     ]
    },
    {
     "name": "stdout",
     "output_type": "stream",
     "text": [
      "Accuracy: 0.0323, Loss: 0.0130\n"
     ]
    },
    {
     "name": "stderr",
     "output_type": "stream",
     "text": [
      "Inference:   5%|▌         | 4/79 [00:02<00:39,  1.88it/s]"
     ]
    },
    {
     "name": "stdout",
     "output_type": "stream",
     "text": [
      "Accuracy: 0.0422, Loss: 0.0180\n"
     ]
    },
    {
     "name": "stderr",
     "output_type": "stream",
     "text": [
      "Inference:   6%|▋         | 5/79 [00:02<00:37,  1.98it/s]"
     ]
    },
    {
     "name": "stdout",
     "output_type": "stream",
     "text": [
      "Accuracy: 0.0525, Loss: 0.0235\n"
     ]
    },
    {
     "name": "stderr",
     "output_type": "stream",
     "text": [
      "Inference:   8%|▊         | 6/79 [00:03<00:35,  2.06it/s]"
     ]
    },
    {
     "name": "stdout",
     "output_type": "stream",
     "text": [
      "Accuracy: 0.0621, Loss: 0.0293\n"
     ]
    },
    {
     "name": "stderr",
     "output_type": "stream",
     "text": [
      "Inference:   9%|▉         | 7/79 [00:03<00:33,  2.15it/s]"
     ]
    },
    {
     "name": "stdout",
     "output_type": "stream",
     "text": [
      "Accuracy: 0.0724, Loss: 0.0349\n"
     ]
    },
    {
     "name": "stderr",
     "output_type": "stream",
     "text": [
      "Inference:  10%|█         | 8/79 [00:04<00:32,  2.21it/s]"
     ]
    },
    {
     "name": "stdout",
     "output_type": "stream",
     "text": [
      "Accuracy: 0.0828, Loss: 0.0397\n"
     ]
    },
    {
     "name": "stderr",
     "output_type": "stream",
     "text": [
      "Inference:  11%|█▏        | 9/79 [00:04<00:31,  2.25it/s]"
     ]
    },
    {
     "name": "stdout",
     "output_type": "stream",
     "text": [
      "Accuracy: 0.0937, Loss: 0.0439\n"
     ]
    },
    {
     "name": "stderr",
     "output_type": "stream",
     "text": [
      "Inference:  13%|█▎        | 10/79 [00:05<00:30,  2.27it/s]"
     ]
    },
    {
     "name": "stdout",
     "output_type": "stream",
     "text": [
      "Accuracy: 0.1044, Loss: 0.0479\n"
     ]
    },
    {
     "name": "stderr",
     "output_type": "stream",
     "text": [
      "Inference:  14%|█▍        | 11/79 [00:05<00:29,  2.29it/s]"
     ]
    },
    {
     "name": "stdout",
     "output_type": "stream",
     "text": [
      "Accuracy: 0.1147, Loss: 0.0524\n"
     ]
    },
    {
     "name": "stderr",
     "output_type": "stream",
     "text": [
      "Inference:  15%|█▌        | 12/79 [00:05<00:28,  2.31it/s]"
     ]
    },
    {
     "name": "stdout",
     "output_type": "stream",
     "text": [
      "Accuracy: 0.1248, Loss: 0.0578\n"
     ]
    },
    {
     "name": "stderr",
     "output_type": "stream",
     "text": [
      "Inference:  16%|█▋        | 13/79 [00:06<00:28,  2.32it/s]"
     ]
    },
    {
     "name": "stdout",
     "output_type": "stream",
     "text": [
      "Accuracy: 0.1353, Loss: 0.0632\n"
     ]
    },
    {
     "name": "stderr",
     "output_type": "stream",
     "text": [
      "Inference:  18%|█▊        | 14/79 [00:06<00:28,  2.30it/s]"
     ]
    },
    {
     "name": "stdout",
     "output_type": "stream",
     "text": [
      "Accuracy: 0.1462, Loss: 0.0679\n"
     ]
    },
    {
     "name": "stderr",
     "output_type": "stream",
     "text": [
      "Inference:  19%|█▉        | 15/79 [00:07<00:27,  2.31it/s]"
     ]
    },
    {
     "name": "stdout",
     "output_type": "stream",
     "text": [
      "Accuracy: 0.1571, Loss: 0.0715\n"
     ]
    },
    {
     "name": "stderr",
     "output_type": "stream",
     "text": [
      "Inference:  20%|██        | 16/79 [00:07<00:27,  2.32it/s]"
     ]
    },
    {
     "name": "stdout",
     "output_type": "stream",
     "text": [
      "Accuracy: 0.1677, Loss: 0.0767\n"
     ]
    },
    {
     "name": "stderr",
     "output_type": "stream",
     "text": [
      "Inference:  22%|██▏       | 17/79 [00:08<00:27,  2.29it/s]"
     ]
    },
    {
     "name": "stdout",
     "output_type": "stream",
     "text": [
      "Accuracy: 0.1777, Loss: 0.0821\n"
     ]
    },
    {
     "name": "stderr",
     "output_type": "stream",
     "text": [
      "Inference:  23%|██▎       | 18/79 [00:08<00:26,  2.28it/s]"
     ]
    },
    {
     "name": "stdout",
     "output_type": "stream",
     "text": [
      "Accuracy: 0.1888, Loss: 0.0857\n"
     ]
    },
    {
     "name": "stderr",
     "output_type": "stream",
     "text": [
      "Inference:  24%|██▍       | 19/79 [00:08<00:26,  2.29it/s]"
     ]
    },
    {
     "name": "stdout",
     "output_type": "stream",
     "text": [
      "Accuracy: 0.1991, Loss: 0.0907\n"
     ]
    },
    {
     "name": "stderr",
     "output_type": "stream",
     "text": [
      "Inference:  25%|██▌       | 20/79 [00:09<00:26,  2.27it/s]"
     ]
    },
    {
     "name": "stdout",
     "output_type": "stream",
     "text": [
      "Accuracy: 0.2101, Loss: 0.0952\n"
     ]
    },
    {
     "name": "stderr",
     "output_type": "stream",
     "text": [
      "Inference:  27%|██▋       | 21/79 [00:09<00:25,  2.28it/s]"
     ]
    },
    {
     "name": "stdout",
     "output_type": "stream",
     "text": [
      "Accuracy: 0.2209, Loss: 0.0998\n"
     ]
    },
    {
     "name": "stderr",
     "output_type": "stream",
     "text": [
      "Inference:  28%|██▊       | 22/79 [00:10<00:25,  2.28it/s]"
     ]
    },
    {
     "name": "stdout",
     "output_type": "stream",
     "text": [
      "Accuracy: 0.2310, Loss: 0.1045\n"
     ]
    },
    {
     "name": "stderr",
     "output_type": "stream",
     "text": [
      "Inference:  29%|██▉       | 23/79 [00:10<00:24,  2.30it/s]"
     ]
    },
    {
     "name": "stdout",
     "output_type": "stream",
     "text": [
      "Accuracy: 0.2420, Loss: 0.1087\n"
     ]
    },
    {
     "name": "stderr",
     "output_type": "stream",
     "text": [
      "Inference:  30%|███       | 24/79 [00:11<00:24,  2.27it/s]"
     ]
    },
    {
     "name": "stdout",
     "output_type": "stream",
     "text": [
      "Accuracy: 0.2529, Loss: 0.1125\n"
     ]
    },
    {
     "name": "stderr",
     "output_type": "stream",
     "text": [
      "Inference:  32%|███▏      | 25/79 [00:11<00:23,  2.29it/s]"
     ]
    },
    {
     "name": "stdout",
     "output_type": "stream",
     "text": [
      "Accuracy: 0.2631, Loss: 0.1173\n"
     ]
    },
    {
     "name": "stderr",
     "output_type": "stream",
     "text": [
      "Inference:  33%|███▎      | 26/79 [00:11<00:22,  2.31it/s]"
     ]
    },
    {
     "name": "stdout",
     "output_type": "stream",
     "text": [
      "Accuracy: 0.2728, Loss: 0.1227\n"
     ]
    },
    {
     "name": "stderr",
     "output_type": "stream",
     "text": [
      "Inference:  34%|███▍      | 27/79 [00:12<00:22,  2.33it/s]"
     ]
    },
    {
     "name": "stdout",
     "output_type": "stream",
     "text": [
      "Accuracy: 0.2838, Loss: 0.1273\n"
     ]
    },
    {
     "name": "stderr",
     "output_type": "stream",
     "text": [
      "Inference:  35%|███▌      | 28/79 [00:12<00:21,  2.33it/s]"
     ]
    },
    {
     "name": "stdout",
     "output_type": "stream",
     "text": [
      "Accuracy: 0.2940, Loss: 0.1327\n"
     ]
    },
    {
     "name": "stderr",
     "output_type": "stream",
     "text": [
      "Inference:  37%|███▋      | 29/79 [00:13<00:21,  2.34it/s]"
     ]
    },
    {
     "name": "stdout",
     "output_type": "stream",
     "text": [
      "Accuracy: 0.3040, Loss: 0.1381\n"
     ]
    },
    {
     "name": "stderr",
     "output_type": "stream",
     "text": [
      "Inference:  38%|███▊      | 30/79 [00:13<00:20,  2.34it/s]"
     ]
    },
    {
     "name": "stdout",
     "output_type": "stream",
     "text": [
      "Accuracy: 0.3146, Loss: 0.1423\n"
     ]
    },
    {
     "name": "stderr",
     "output_type": "stream",
     "text": [
      "Inference:  39%|███▉      | 31/79 [00:14<00:20,  2.35it/s]"
     ]
    },
    {
     "name": "stdout",
     "output_type": "stream",
     "text": [
      "Accuracy: 0.3246, Loss: 0.1473\n"
     ]
    },
    {
     "name": "stderr",
     "output_type": "stream",
     "text": [
      "Inference:  41%|████      | 32/79 [00:14<00:20,  2.35it/s]"
     ]
    },
    {
     "name": "stdout",
     "output_type": "stream",
     "text": [
      "Accuracy: 0.3349, Loss: 0.1524\n"
     ]
    },
    {
     "name": "stderr",
     "output_type": "stream",
     "text": [
      "Inference:  42%|████▏     | 33/79 [00:14<00:19,  2.35it/s]"
     ]
    },
    {
     "name": "stdout",
     "output_type": "stream",
     "text": [
      "Accuracy: 0.3450, Loss: 0.1580\n"
     ]
    },
    {
     "name": "stderr",
     "output_type": "stream",
     "text": [
      "Inference:  43%|████▎     | 34/79 [00:15<00:19,  2.32it/s]"
     ]
    },
    {
     "name": "stdout",
     "output_type": "stream",
     "text": [
      "Accuracy: 0.3554, Loss: 0.1623\n"
     ]
    },
    {
     "name": "stderr",
     "output_type": "stream",
     "text": [
      "Inference:  44%|████▍     | 35/79 [00:15<00:19,  2.30it/s]"
     ]
    },
    {
     "name": "stdout",
     "output_type": "stream",
     "text": [
      "Accuracy: 0.3656, Loss: 0.1673\n"
     ]
    },
    {
     "name": "stderr",
     "output_type": "stream",
     "text": [
      "Inference:  46%|████▌     | 36/79 [00:16<00:18,  2.30it/s]"
     ]
    },
    {
     "name": "stdout",
     "output_type": "stream",
     "text": [
      "Accuracy: 0.3752, Loss: 0.1728\n"
     ]
    },
    {
     "name": "stderr",
     "output_type": "stream",
     "text": [
      "Inference:  47%|████▋     | 37/79 [00:16<00:18,  2.29it/s]"
     ]
    },
    {
     "name": "stdout",
     "output_type": "stream",
     "text": [
      "Accuracy: 0.3864, Loss: 0.1771\n"
     ]
    },
    {
     "name": "stderr",
     "output_type": "stream",
     "text": [
      "Inference:  48%|████▊     | 38/79 [00:17<00:17,  2.31it/s]"
     ]
    },
    {
     "name": "stdout",
     "output_type": "stream",
     "text": [
      "Accuracy: 0.3973, Loss: 0.1815\n"
     ]
    },
    {
     "name": "stderr",
     "output_type": "stream",
     "text": [
      "Inference:  49%|████▉     | 39/79 [00:17<00:17,  2.32it/s]"
     ]
    },
    {
     "name": "stdout",
     "output_type": "stream",
     "text": [
      "Accuracy: 0.4078, Loss: 0.1865\n"
     ]
    },
    {
     "name": "stderr",
     "output_type": "stream",
     "text": [
      "Inference:  51%|█████     | 40/79 [00:17<00:16,  2.33it/s]"
     ]
    },
    {
     "name": "stdout",
     "output_type": "stream",
     "text": [
      "Accuracy: 0.4182, Loss: 0.1911\n"
     ]
    },
    {
     "name": "stderr",
     "output_type": "stream",
     "text": [
      "Inference:  52%|█████▏    | 41/79 [00:18<00:16,  2.33it/s]"
     ]
    },
    {
     "name": "stdout",
     "output_type": "stream",
     "text": [
      "Accuracy: 0.4282, Loss: 0.1960\n"
     ]
    },
    {
     "name": "stderr",
     "output_type": "stream",
     "text": [
      "Inference:  53%|█████▎    | 42/79 [00:18<00:15,  2.34it/s]"
     ]
    },
    {
     "name": "stdout",
     "output_type": "stream",
     "text": [
      "Accuracy: 0.4395, Loss: 0.1995\n"
     ]
    },
    {
     "name": "stderr",
     "output_type": "stream",
     "text": [
      "Inference:  54%|█████▍    | 43/79 [00:19<00:15,  2.32it/s]"
     ]
    },
    {
     "name": "stdout",
     "output_type": "stream",
     "text": [
      "Accuracy: 0.4498, Loss: 0.2045\n"
     ]
    },
    {
     "name": "stderr",
     "output_type": "stream",
     "text": [
      "Inference:  56%|█████▌    | 44/79 [00:19<00:15,  2.33it/s]"
     ]
    },
    {
     "name": "stdout",
     "output_type": "stream",
     "text": [
      "Accuracy: 0.4599, Loss: 0.2096\n"
     ]
    },
    {
     "name": "stderr",
     "output_type": "stream",
     "text": [
      "Inference:  57%|█████▋    | 45/79 [00:20<00:14,  2.34it/s]"
     ]
    },
    {
     "name": "stdout",
     "output_type": "stream",
     "text": [
      "Accuracy: 0.4699, Loss: 0.2147\n"
     ]
    },
    {
     "name": "stderr",
     "output_type": "stream",
     "text": [
      "Inference:  58%|█████▊    | 46/79 [00:20<00:14,  2.34it/s]"
     ]
    },
    {
     "name": "stdout",
     "output_type": "stream",
     "text": [
      "Accuracy: 0.4810, Loss: 0.2191\n"
     ]
    },
    {
     "name": "stderr",
     "output_type": "stream",
     "text": [
      "Inference:  59%|█████▉    | 47/79 [00:20<00:13,  2.35it/s]"
     ]
    },
    {
     "name": "stdout",
     "output_type": "stream",
     "text": [
      "Accuracy: 0.4913, Loss: 0.2242\n"
     ]
    },
    {
     "name": "stderr",
     "output_type": "stream",
     "text": [
      "Inference:  61%|██████    | 48/79 [00:21<00:13,  2.35it/s]"
     ]
    },
    {
     "name": "stdout",
     "output_type": "stream",
     "text": [
      "Accuracy: 0.5014, Loss: 0.2292\n"
     ]
    },
    {
     "name": "stderr",
     "output_type": "stream",
     "text": [
      "Inference:  62%|██████▏   | 49/79 [00:21<00:12,  2.35it/s]"
     ]
    },
    {
     "name": "stdout",
     "output_type": "stream",
     "text": [
      "Accuracy: 0.5126, Loss: 0.2331\n"
     ]
    },
    {
     "name": "stderr",
     "output_type": "stream",
     "text": [
      "Inference:  63%|██████▎   | 50/79 [00:22<00:12,  2.35it/s]"
     ]
    },
    {
     "name": "stdout",
     "output_type": "stream",
     "text": [
      "Accuracy: 0.5235, Loss: 0.2372\n"
     ]
    },
    {
     "name": "stderr",
     "output_type": "stream",
     "text": [
      "Inference:  65%|██████▍   | 51/79 [00:22<00:11,  2.35it/s]"
     ]
    },
    {
     "name": "stdout",
     "output_type": "stream",
     "text": [
      "Accuracy: 0.5349, Loss: 0.2411\n"
     ]
    },
    {
     "name": "stderr",
     "output_type": "stream",
     "text": [
      "Inference:  66%|██████▌   | 52/79 [00:23<00:11,  2.36it/s]"
     ]
    },
    {
     "name": "stdout",
     "output_type": "stream",
     "text": [
      "Accuracy: 0.5456, Loss: 0.2454\n"
     ]
    },
    {
     "name": "stderr",
     "output_type": "stream",
     "text": [
      "Inference:  67%|██████▋   | 53/79 [00:23<00:11,  2.32it/s]"
     ]
    },
    {
     "name": "stdout",
     "output_type": "stream",
     "text": [
      "Accuracy: 0.5562, Loss: 0.2502\n"
     ]
    },
    {
     "name": "stderr",
     "output_type": "stream",
     "text": [
      "Inference:  68%|██████▊   | 54/79 [00:23<00:10,  2.31it/s]"
     ]
    },
    {
     "name": "stdout",
     "output_type": "stream",
     "text": [
      "Accuracy: 0.5664, Loss: 0.2549\n"
     ]
    },
    {
     "name": "stderr",
     "output_type": "stream",
     "text": [
      "Inference:  70%|██████▉   | 55/79 [00:24<00:10,  2.27it/s]"
     ]
    },
    {
     "name": "stdout",
     "output_type": "stream",
     "text": [
      "Accuracy: 0.5771, Loss: 0.2593\n"
     ]
    },
    {
     "name": "stderr",
     "output_type": "stream",
     "text": [
      "Inference:  71%|███████   | 56/79 [00:24<00:10,  2.26it/s]"
     ]
    },
    {
     "name": "stdout",
     "output_type": "stream",
     "text": [
      "Accuracy: 0.5874, Loss: 0.2648\n"
     ]
    },
    {
     "name": "stderr",
     "output_type": "stream",
     "text": [
      "Inference:  72%|███████▏  | 57/79 [00:25<00:09,  2.28it/s]"
     ]
    },
    {
     "name": "stdout",
     "output_type": "stream",
     "text": [
      "Accuracy: 0.5982, Loss: 0.2693\n"
     ]
    },
    {
     "name": "stderr",
     "output_type": "stream",
     "text": [
      "Inference:  73%|███████▎  | 58/79 [00:25<00:09,  2.29it/s]"
     ]
    },
    {
     "name": "stdout",
     "output_type": "stream",
     "text": [
      "Accuracy: 0.6090, Loss: 0.2736\n"
     ]
    },
    {
     "name": "stderr",
     "output_type": "stream",
     "text": [
      "Inference:  75%|███████▍  | 59/79 [00:26<00:08,  2.31it/s]"
     ]
    },
    {
     "name": "stdout",
     "output_type": "stream",
     "text": [
      "Accuracy: 0.6197, Loss: 0.2783\n"
     ]
    },
    {
     "name": "stderr",
     "output_type": "stream",
     "text": [
      "Inference:  76%|███████▌  | 60/79 [00:26<00:08,  2.32it/s]"
     ]
    },
    {
     "name": "stdout",
     "output_type": "stream",
     "text": [
      "Accuracy: 0.6300, Loss: 0.2828\n"
     ]
    },
    {
     "name": "stderr",
     "output_type": "stream",
     "text": [
      "Inference:  77%|███████▋  | 61/79 [00:27<00:07,  2.33it/s]"
     ]
    },
    {
     "name": "stdout",
     "output_type": "stream",
     "text": [
      "Accuracy: 0.6407, Loss: 0.2874\n"
     ]
    },
    {
     "name": "stderr",
     "output_type": "stream",
     "text": [
      "Inference:  78%|███████▊  | 62/79 [00:27<00:07,  2.31it/s]"
     ]
    },
    {
     "name": "stdout",
     "output_type": "stream",
     "text": [
      "Accuracy: 0.6521, Loss: 0.2910\n"
     ]
    },
    {
     "name": "stderr",
     "output_type": "stream",
     "text": [
      "Inference:  80%|███████▉  | 63/79 [00:27<00:06,  2.32it/s]"
     ]
    },
    {
     "name": "stdout",
     "output_type": "stream",
     "text": [
      "Accuracy: 0.6636, Loss: 0.2940\n"
     ]
    },
    {
     "name": "stderr",
     "output_type": "stream",
     "text": [
      "Inference:  81%|████████  | 64/79 [00:28<00:06,  2.32it/s]"
     ]
    },
    {
     "name": "stdout",
     "output_type": "stream",
     "text": [
      "Accuracy: 0.6741, Loss: 0.2988\n"
     ]
    },
    {
     "name": "stderr",
     "output_type": "stream",
     "text": [
      "Inference:  82%|████████▏ | 65/79 [00:28<00:06,  2.33it/s]"
     ]
    },
    {
     "name": "stdout",
     "output_type": "stream",
     "text": [
      "Accuracy: 0.6845, Loss: 0.3029\n"
     ]
    },
    {
     "name": "stderr",
     "output_type": "stream",
     "text": [
      "Inference:  84%|████████▎ | 66/79 [00:29<00:05,  2.33it/s]"
     ]
    },
    {
     "name": "stdout",
     "output_type": "stream",
     "text": [
      "Accuracy: 0.6947, Loss: 0.3080\n"
     ]
    },
    {
     "name": "stderr",
     "output_type": "stream",
     "text": [
      "Inference:  85%|████████▍ | 67/79 [00:29<00:05,  2.33it/s]"
     ]
    },
    {
     "name": "stdout",
     "output_type": "stream",
     "text": [
      "Accuracy: 0.7049, Loss: 0.3133\n"
     ]
    },
    {
     "name": "stderr",
     "output_type": "stream",
     "text": [
      "Inference:  86%|████████▌ | 68/79 [00:30<00:04,  2.33it/s]"
     ]
    },
    {
     "name": "stdout",
     "output_type": "stream",
     "text": [
      "Accuracy: 0.7155, Loss: 0.3178\n"
     ]
    },
    {
     "name": "stderr",
     "output_type": "stream",
     "text": [
      "Inference:  87%|████████▋ | 69/79 [00:30<00:04,  2.33it/s]"
     ]
    },
    {
     "name": "stdout",
     "output_type": "stream",
     "text": [
      "Accuracy: 0.7257, Loss: 0.3232\n"
     ]
    },
    {
     "name": "stderr",
     "output_type": "stream",
     "text": [
      "Inference:  89%|████████▊ | 70/79 [00:30<00:03,  2.33it/s]"
     ]
    },
    {
     "name": "stdout",
     "output_type": "stream",
     "text": [
      "Accuracy: 0.7354, Loss: 0.3283\n"
     ]
    },
    {
     "name": "stderr",
     "output_type": "stream",
     "text": [
      "Inference:  90%|████████▉ | 71/79 [00:31<00:03,  2.31it/s]"
     ]
    },
    {
     "name": "stdout",
     "output_type": "stream",
     "text": [
      "Accuracy: 0.7460, Loss: 0.3332\n"
     ]
    },
    {
     "name": "stderr",
     "output_type": "stream",
     "text": [
      "Inference:  91%|█████████ | 72/79 [00:31<00:03,  2.29it/s]"
     ]
    },
    {
     "name": "stdout",
     "output_type": "stream",
     "text": [
      "Accuracy: 0.7570, Loss: 0.3370\n"
     ]
    },
    {
     "name": "stderr",
     "output_type": "stream",
     "text": [
      "Inference:  92%|█████████▏| 73/79 [00:32<00:02,  2.30it/s]"
     ]
    },
    {
     "name": "stdout",
     "output_type": "stream",
     "text": [
      "Accuracy: 0.7669, Loss: 0.3424\n"
     ]
    },
    {
     "name": "stderr",
     "output_type": "stream",
     "text": [
      "Inference:  94%|█████████▎| 74/79 [00:32<00:02,  2.31it/s]"
     ]
    },
    {
     "name": "stdout",
     "output_type": "stream",
     "text": [
      "Accuracy: 0.7776, Loss: 0.3476\n"
     ]
    },
    {
     "name": "stderr",
     "output_type": "stream",
     "text": [
      "Inference:  95%|█████████▍| 75/79 [00:33<00:01,  2.32it/s]"
     ]
    },
    {
     "name": "stdout",
     "output_type": "stream",
     "text": [
      "Accuracy: 0.7893, Loss: 0.3513\n"
     ]
    },
    {
     "name": "stderr",
     "output_type": "stream",
     "text": [
      "Inference:  96%|█████████▌| 76/79 [00:33<00:01,  2.33it/s]"
     ]
    },
    {
     "name": "stdout",
     "output_type": "stream",
     "text": [
      "Accuracy: 0.7998, Loss: 0.3555\n"
     ]
    },
    {
     "name": "stderr",
     "output_type": "stream",
     "text": [
      "Inference:  97%|█████████▋| 77/79 [00:33<00:00,  2.33it/s]"
     ]
    },
    {
     "name": "stdout",
     "output_type": "stream",
     "text": [
      "Accuracy: 0.8106, Loss: 0.3597\n"
     ]
    },
    {
     "name": "stderr",
     "output_type": "stream",
     "text": [
      "Inference: 100%|██████████| 79/79 [00:34<00:00,  2.29it/s]"
     ]
    },
    {
     "name": "stdout",
     "output_type": "stream",
     "text": [
      "Accuracy: 0.8212, Loss: 0.3646\n",
      "Accuracy: 0.8315, Loss: 0.3720\n"
     ]
    },
    {
     "name": "stderr",
     "output_type": "stream",
     "text": [
      "\n"
     ]
    }
   ],
   "source": [
    "# map_location=torch.device('mps')\n",
    "model = model.to(device)\n",
    "model.load_state_dict(torch.load(\"./sentiment_lstm.pt\", weights_only=True, map_location=torch.device('mps')))\n",
    "\n",
    "test_enc = [[word2int.get(word, 1) for word in review.split()] for review in tqdm(test_x.values)]\n",
    "\n",
    "test_features = np.zeros((len(test_enc), CORPUS_MAX_SIZE), dtype=int)\n",
    "\n",
    "for i, row in enumerate(test_enc):\n",
    "  index = CORPUS_MAX_SIZE - len(row)\n",
    "  test_features[i, index:] = np.array(row)[:CORPUS_MAX_SIZE]\n",
    "\n",
    "testset = TensorDataset(torch.from_numpy(test_features), torch.from_numpy(test_y.to_numpy()))\n",
    "testloader = DataLoader(testset, shuffle=True, batch_size=batch_size)\n",
    "\n",
    "# test loop\n",
    "model.eval()\n",
    "\n",
    "# metrics\n",
    "test_loss = 0\n",
    "test_acc = 0\n",
    "\n",
    "all_target = []\n",
    "all_predicted = []\n",
    "\n",
    "testloop = tqdm(testloader, leave=True, desc='Inference')\n",
    "with torch.no_grad():\n",
    "  for feature, target in testloop:\n",
    "    feature, target = feature.to(device), target.to(device)\n",
    "\n",
    "    out = model(feature)\n",
    "    \n",
    "    predicted = torch.tensor([1 if i == True else 0 for i in out > 0.5], device=device)\n",
    "    equals = predicted == target\n",
    "    acc = torch.mean(equals.type(torch.FloatTensor))\n",
    "    test_acc += acc.item()\n",
    "\n",
    "    loss = criterion(out.squeeze(), target.float())\n",
    "    test_loss += loss.item()\n",
    "\n",
    "    all_target.extend(target.cpu().numpy())\n",
    "    all_predicted.extend(predicted.cpu().numpy())\n",
    "\n",
    "    print(f'Accuracy: {test_acc/len(testloader):.4f}, Loss: {test_loss/len(testloader):.4f}')"
   ]
  },
  {
   "cell_type": "code",
   "execution_count": 11,
   "metadata": {},
   "outputs": [
    {
     "name": "stdout",
     "output_type": "stream",
     "text": [
      "              precision    recall  f1-score   support\n",
      "\n",
      "           0       0.83      0.83      0.83      5004\n",
      "           1       0.83      0.83      0.83      4996\n",
      "\n",
      "    accuracy                           0.83     10000\n",
      "   macro avg       0.83      0.83      0.83     10000\n",
      "weighted avg       0.83      0.83      0.83     10000\n",
      "\n"
     ]
    }
   ],
   "source": [
    "from sklearn.metrics import classification_report\n",
    "print(classification_report(all_predicted, all_target))"
   ]
  }
 ],
 "metadata": {
  "kernelspec": {
   "display_name": "myenv",
   "language": "python",
   "name": "python3"
  },
  "language_info": {
   "codemirror_mode": {
    "name": "ipython",
    "version": 3
   },
   "file_extension": ".py",
   "mimetype": "text/x-python",
   "name": "python",
   "nbconvert_exporter": "python",
   "pygments_lexer": "ipython3",
   "version": "3.11.10"
  }
 },
 "nbformat": 4,
 "nbformat_minor": 2
}
